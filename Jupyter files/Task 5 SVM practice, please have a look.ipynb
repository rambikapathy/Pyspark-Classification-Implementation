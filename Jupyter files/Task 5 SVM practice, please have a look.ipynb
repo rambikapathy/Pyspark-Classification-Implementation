{
 "cells": [
  {
   "cell_type": "code",
   "execution_count": 1,
   "id": "94799447",
   "metadata": {},
   "outputs": [],
   "source": [
    "from pyspark.ml.classification import LinearSVC"
   ]
  },
  {
   "cell_type": "code",
   "execution_count": 2,
   "id": "0d605ca2",
   "metadata": {},
   "outputs": [],
   "source": [
    "from pyspark.sql import SparkSession\n",
    "from pyspark.ml.stat import Correlation\n",
    "import pyspark.sql.functions as F\n",
    "from pyspark.ml.feature import StringIndexer\n",
    "from pyspark.ml.linalg import Vectors\n",
    "from pyspark.ml.feature import Normalizer\n",
    "from pyspark.ml.feature import OneHotEncoder\n",
    "from pyspark.ml.feature import VectorAssembler\n",
    "from pyspark.ml.classification import DecisionTreeClassifier\n",
    "from pyspark.ml.evaluation import MulticlassClassificationEvaluator"
   ]
  },
  {
   "cell_type": "code",
   "execution_count": null,
   "id": "999d8c70",
   "metadata": {},
   "outputs": [],
   "source": [
    "spark = SparkSession.builder.getOrCreate()"
   ]
  },
  {
   "cell_type": "code",
   "execution_count": null,
   "id": "650930c5",
   "metadata": {},
   "outputs": [],
   "source": [
    "df = spark.read.csv(\"nuclear_plants_small_dataset.csv\",inferSchema=True,header=True)"
   ]
  },
  {
   "cell_type": "code",
   "execution_count": null,
   "id": "ac854730",
   "metadata": {},
   "outputs": [],
   "source": [
    "from pyspark.sql.types import IntegerType,BooleanType,DateType\n",
    "\n",
    "df= df.withColumn(\"Power_range_sensor_1\",df[\"Power_range_sensor_1\"].cast(IntegerType()))\n",
    "df= df.withColumn(\"Power_range_sensor_2\",df[\"Power_range_sensor_2\"].cast(IntegerType()))\n",
    "df= df.withColumn(\"Power_range_sensor_3 \",df[\"Power_range_sensor_3 \"].cast(IntegerType()))\n",
    "df= df.withColumn(\"Power_range_sensor_4\",df[\"Power_range_sensor_4\"].cast(IntegerType()))\n",
    "\n",
    "df= df.withColumn(\"Pressure _sensor_1\",df[\"Pressure _sensor_1\"].cast(IntegerType()))\n",
    "df= df.withColumn(\"Pressure _sensor_2\",df[\"Pressure _sensor_2\"].cast(IntegerType()))\n",
    "df= df.withColumn(\"Pressure _sensor_3\",df[\"Pressure _sensor_3\"].cast(IntegerType()))\n",
    "df= df.withColumn(\"Pressure _sensor_4\",df[\"Pressure _sensor_4\"].cast(IntegerType()))\n",
    "\n",
    "df= df.withColumn(\"Vibration_sensor_1\",df[\"Vibration_sensor_1\"].cast(IntegerType()))\n",
    "df= df.withColumn(\"Vibration_sensor_2\",df[\"Vibration_sensor_2\"].cast(IntegerType()))\n",
    "df= df.withColumn(\"Vibration_sensor_3\",df[\"Vibration_sensor_3\"].cast(IntegerType()))\n",
    "df= df.withColumn(\"Vibration_sensor_4\",df[\"Vibration_sensor_4\"].cast(IntegerType()))"
   ]
  },
  {
   "cell_type": "code",
   "execution_count": null,
   "id": "70ce8756",
   "metadata": {},
   "outputs": [],
   "source": [
    "assembler= VectorAssembler(inputCols=['Power_range_sensor_1',\n",
    " 'Power_range_sensor_2',\n",
    " 'Power_range_sensor_3 ',\n",
    " 'Power_range_sensor_4',\n",
    " 'Pressure _sensor_1',\n",
    " 'Pressure _sensor_2',\n",
    " 'Pressure _sensor_3',\n",
    " 'Pressure _sensor_4',\n",
    " 'Vibration_sensor_1',\n",
    " 'Vibration_sensor_2',\n",
    " 'Vibration_sensor_3',\n",
    " 'Vibration_sensor_4'],outputCol='features')"
   ]
  },
  {
   "cell_type": "code",
   "execution_count": null,
   "id": "2f43e815",
   "metadata": {},
   "outputs": [],
   "source": [
    "splits = df.randomSplit([0.7,0.3])"
   ]
  },
  {
   "cell_type": "code",
   "execution_count": null,
   "id": "7c7841ce",
   "metadata": {},
   "outputs": [],
   "source": [
    "df_train = splits[0]\n",
    "df_test = splits[1]"
   ]
  },
  {
   "cell_type": "code",
   "execution_count": null,
   "id": "101c0134",
   "metadata": {},
   "outputs": [],
   "source": [
    "df_fix = indexed.select(\"features\", \"Status_ind\")"
   ]
  },
  {
   "cell_type": "code",
   "execution_count": null,
   "id": "da8addc8",
   "metadata": {},
   "outputs": [],
   "source": [
    "training_df,test_df=df_fix.randomSplit([0.7,0.3], seed=50)"
   ]
  },
  {
   "cell_type": "code",
   "execution_count": null,
   "id": "0b51f953",
   "metadata": {},
   "outputs": [],
   "source": [
    "output= assembler.transform(df)"
   ]
  },
  {
   "cell_type": "code",
   "execution_count": null,
   "id": "03b34ce2",
   "metadata": {},
   "outputs": [],
   "source": [
    "indexer=StringIndexer(inputCol=\"Status\",outputCol=\"Status_ind\")\n",
    "indexed=indexer.fit(output).transform(output)"
   ]
  },
  {
   "cell_type": "code",
   "execution_count": null,
   "id": "518451b3",
   "metadata": {},
   "outputs": [],
   "source": [
    "encoder = OneHotEncoder(inputCol=\"Status_ind\", outputCol=\"Status_indVec\")"
   ]
  },
  {
   "cell_type": "code",
   "execution_count": null,
   "id": "d657af6e",
   "metadata": {},
   "outputs": [],
   "source": [
    "vectorAssembler = VectorAssembler(inputCols=['Power_range_sensor_1',\n",
    " 'Power_range_sensor_2',\n",
    " 'Power_range_sensor_3 ',\n",
    " 'Power_range_sensor_4',\n",
    " 'Pressure _sensor_1',\n",
    " 'Pressure _sensor_2',\n",
    " 'Pressure _sensor_3',\n",
    " 'Pressure _sensor_4',\n",
    " 'Vibration_sensor_1',\n",
    " 'Vibration_sensor_2',\n",
    " 'Vibration_sensor_3',\n",
    " 'Vibration_sensor_4'], outputCol = \"features\")"
   ]
  },
  {
   "cell_type": "code",
   "execution_count": null,
   "id": "5658e104",
   "metadata": {},
   "outputs": [],
   "source": [
    "normalizer = Normalizer(inputCol = \"features\", outputCol=\"features_norm\", p=1.0)"
   ]
  },
  {
   "cell_type": "code",
   "execution_count": null,
   "id": "c27ba488",
   "metadata": {},
   "outputs": [],
   "source": [
    "#from new program\n",
    "\n",
    "from pyspark.ml import Pipeline"
   ]
  },
  {
   "cell_type": "code",
   "execution_count": null,
   "id": "014ccadf",
   "metadata": {},
   "outputs": [],
   "source": [
    "pipeline = Pipeline(stages=[indexer,encoder,vectorAssembler, normalizer, LinearSVC])"
   ]
  },
  {
   "cell_type": "code",
   "execution_count": null,
   "id": "0fdbbadb",
   "metadata": {},
   "outputs": [],
   "source": [
    "lsvc = LinearSVC(maxIter=10, regParam=0.1)"
   ]
  },
  {
   "cell_type": "code",
   "execution_count": null,
   "id": "2e61e5ae",
   "metadata": {},
   "outputs": [],
   "source": [
    "from pyspark.ml import Pipeline"
   ]
  },
  {
   "cell_type": "code",
   "execution_count": null,
   "id": "1c9eb9ae",
   "metadata": {},
   "outputs": [],
   "source": [
    "pipeline = Pipeline(stages=[indexer,encoder,vectorAssembler, normalizer, lsvc])"
   ]
  },
  {
   "cell_type": "code",
   "execution_count": null,
   "id": "ed70b2c6",
   "metadata": {},
   "outputs": [],
   "source": [
    "model = pipeline.fit(df_train)"
   ]
  },
  {
   "cell_type": "code",
   "execution_count": null,
   "id": "12769749",
   "metadata": {},
   "outputs": [],
   "source": [
    "prediction = model.transform(df_train)"
   ]
  },
  {
   "cell_type": "code",
   "execution_count": null,
   "id": "00a1f6fe",
   "metadata": {},
   "outputs": [],
   "source": [
    "from pyspark.ml.evaluation import BinaryClassificationEvaluator"
   ]
  },
  {
   "cell_type": "code",
   "execution_count": null,
   "id": "31daa7be",
   "metadata": {},
   "outputs": [],
   "source": [
    "evaluator = BinaryClassificationEvaluator(rawPredictionCol = \"rawPrediction\")"
   ]
  },
  {
   "cell_type": "code",
   "execution_count": null,
   "id": "c35de9f6",
   "metadata": {},
   "outputs": [],
   "source": [
    "evaluator.evaluate(prediction)"
   ]
  },
  {
   "cell_type": "code",
   "execution_count": null,
   "id": "269e53a2",
   "metadata": {},
   "outputs": [],
   "source": [
    "prediction = model.transform(df_train)"
   ]
  },
  {
   "cell_type": "code",
   "execution_count": null,
   "id": "9d013cea",
   "metadata": {},
   "outputs": [],
   "source": [
    "evaluator.evaluate(prediction)"
   ]
  },
  {
   "cell_type": "code",
   "execution_count": null,
   "id": "4542f3fa",
   "metadata": {},
   "outputs": [],
   "source": []
  }
 ],
 "metadata": {
  "kernelspec": {
   "display_name": "Python 3",
   "language": "python",
   "name": "python3"
  },
  "language_info": {
   "codemirror_mode": {
    "name": "ipython",
    "version": 3
   },
   "file_extension": ".py",
   "mimetype": "text/x-python",
   "name": "python",
   "nbconvert_exporter": "python",
   "pygments_lexer": "ipython3",
   "version": "3.8.8"
  }
 },
 "nbformat": 4,
 "nbformat_minor": 5
}
