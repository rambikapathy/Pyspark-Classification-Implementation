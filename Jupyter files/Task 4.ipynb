{
 "cells": [
  {
   "cell_type": "markdown",
   "metadata": {},
   "source": [
    "# Big Data (Task 4) <br>\n"
   ]
  },
  {
   "cell_type": "code",
   "execution_count": 6,
   "metadata": {},
   "outputs": [],
   "source": [
    "from pyspark.sql import SparkSession\n",
    "from pyspark.ml.stat import Correlation\n",
    "import pyspark.sql.functions as F\n",
    "from pyspark.ml.feature import StringIndexer\n",
    "from pyspark.ml.feature import VectorAssembler\n",
    "from pyspark.sql.types import IntegerType,BooleanType,DateType\n",
    "from pyspark.ml.classification import DecisionTreeClassifier, LinearSVC, MultilayerPerceptronClassifier\n",
    "\n",
    "from pyspark.ml.evaluation import MulticlassClassificationEvaluator"
   ]
  },
  {
   "cell_type": "code",
   "execution_count": 2,
   "metadata": {},
   "outputs": [],
   "source": [
    "spark = SparkSession.builder.getOrCreate()"
   ]
  },
  {
   "cell_type": "code",
   "execution_count": 3,
   "metadata": {},
   "outputs": [],
   "source": [
    "df = spark.read.csv(\"nuclear_plants_small_dataset.csv\",inferSchema=True,header=True)"
   ]
  },
  {
   "cell_type": "code",
   "execution_count": 18,
   "metadata": {},
   "outputs": [],
   "source": [
    "# Filter the groups into Normal and abnormal\n",
    "dfNormal = df.filter(df.Status == 'Normal' )"
   ]
  },
  {
   "cell_type": "code",
   "execution_count": 19,
   "metadata": {},
   "outputs": [],
   "source": [
    "#Currently the data type is double, this function converts all the feature columns into integer\n",
    "dfNormal= dfNormal.withColumn(\"Power_range_sensor_1\",dfNormal[\"Power_range_sensor_1\"].cast(IntegerType()))\n",
    "dfNormal= dfNormal.withColumn(\"Power_range_sensor_2\",dfNormal[\"Power_range_sensor_2\"].cast(IntegerType()))\n",
    "dfNormal= dfNormal.withColumn(\"Power_range_sensor_3 \",dfNormal[\"Power_range_sensor_3 \"].cast(IntegerType()))\n",
    "dfNormal= dfNormal.withColumn(\"Power_range_sensor_4\",dfNormal[\"Power_range_sensor_4\"].cast(IntegerType()))\n",
    "\n",
    "dfNormal= dfNormal.withColumn(\"Pressure _sensor_1\",dfNormal[\"Pressure _sensor_1\"].cast(IntegerType()))\n",
    "dfNormal= dfNormal.withColumn(\"Pressure _sensor_2\",dfNormal[\"Pressure _sensor_2\"].cast(IntegerType()))\n",
    "dfNormal= dfNormal.withColumn(\"Pressure _sensor_3\",dfNormal[\"Pressure _sensor_3\"].cast(IntegerType()))\n",
    "dfNormal= dfNormal.withColumn(\"Pressure _sensor_4\",dfNormal[\"Pressure _sensor_4\"].cast(IntegerType()))\n",
    "\n",
    "dfNormal= dfNormal.withColumn(\"Vibration_sensor_1\",dfNormal[\"Vibration_sensor_1\"].cast(IntegerType()))\n",
    "dfNormal= dfNormal.withColumn(\"Vibration_sensor_2\",dfNormal[\"Vibration_sensor_2\"].cast(IntegerType()))\n",
    "dfNormal= dfNormal.withColumn(\"Vibration_sensor_3\",dfNormal[\"Vibration_sensor_3\"].cast(IntegerType()))\n",
    "dfNormal= dfNormal.withColumn(\"Vibration_sensor_4\",dfNormal[\"Vibration_sensor_4\"].cast(IntegerType()))"
   ]
  },
  {
   "cell_type": "code",
   "execution_count": 20,
   "metadata": {},
   "outputs": [],
   "source": [
    "assembler= VectorAssembler(inputCols=['Power_range_sensor_1',\n",
    " 'Power_range_sensor_2',\n",
    " 'Power_range_sensor_3 ',\n",
    " 'Power_range_sensor_4',\n",
    " 'Pressure _sensor_1',\n",
    " 'Pressure _sensor_2',\n",
    " 'Pressure _sensor_3',\n",
    " 'Pressure _sensor_4',\n",
    " 'Vibration_sensor_1',\n",
    " 'Vibration_sensor_2',\n",
    " 'Vibration_sensor_3',\n",
    " 'Vibration_sensor_4'],outputCol='features')"
   ]
  },
  {
   "cell_type": "code",
   "execution_count": 29,
   "metadata": {},
   "outputs": [],
   "source": [
    "output= assembler.transform(dfNormal)"
   ]
  },
  {
   "cell_type": "code",
   "execution_count": 22,
   "metadata": {},
   "outputs": [],
   "source": [
    "#Stringindexer encodes a column's string label into indices.\n",
    "indexer=StringIndexer(inputCol=\"Status\",outputCol=\"Status_ind\")\n",
    "indexed=indexer.fit(output).transform(output)"
   ]
  },
  {
   "cell_type": "code",
   "execution_count": 23,
   "metadata": {},
   "outputs": [],
   "source": [
    "df_fix = indexed.select(\"features\", \"Status_ind\")"
   ]
  },
  {
   "cell_type": "code",
   "execution_count": 24,
   "metadata": {},
   "outputs": [
    {
     "data": {
      "text/plain": [
       "['Status',\n",
       " 'Power_range_sensor_1',\n",
       " 'Power_range_sensor_2',\n",
       " 'Power_range_sensor_3 ',\n",
       " 'Power_range_sensor_4',\n",
       " 'Pressure _sensor_1',\n",
       " 'Pressure _sensor_2',\n",
       " 'Pressure _sensor_3',\n",
       " 'Pressure _sensor_4',\n",
       " 'Vibration_sensor_1',\n",
       " 'Vibration_sensor_2',\n",
       " 'Vibration_sensor_3',\n",
       " 'Vibration_sensor_4',\n",
       " 'features',\n",
       " 'Status_ind']"
      ]
     },
     "execution_count": 24,
     "metadata": {},
     "output_type": "execute_result"
    }
   ],
   "source": [
    "#output indexed columns\n",
    "indexed.columns"
   ]
  },
  {
   "cell_type": "markdown",
   "metadata": {},
   "source": [
    "Shuffle the dataset using randomSplit then split the dataset into 70% training and 30% test set"
   ]
  },
  {
   "cell_type": "code",
   "execution_count": 25,
   "metadata": {},
   "outputs": [],
   "source": [
    "training_df,test_df=df_fix.randomSplit([0.7,0.3], seed=50)"
   ]
  },
  {
   "cell_type": "markdown",
   "metadata": {},
   "source": [
    "### How many examples in each group for the training dataset? (Normal Group:338)"
   ]
  },
  {
   "cell_type": "code",
   "execution_count": 26,
   "metadata": {},
   "outputs": [
    {
     "name": "stdout",
     "output_type": "stream",
     "text": [
      "338\n"
     ]
    }
   ],
   "source": [
    "print(training_df.count())"
   ]
  },
  {
   "cell_type": "markdown",
   "metadata": {},
   "source": [
    "### How many examples in each group for the test dataset? (Normal Group:160)"
   ]
  },
  {
   "cell_type": "code",
   "execution_count": 27,
   "metadata": {},
   "outputs": [
    {
     "name": "stdout",
     "output_type": "stream",
     "text": [
      "160\n"
     ]
    }
   ],
   "source": [
    "print(test_df.count())"
   ]
  },
  {
   "cell_type": "code",
   "execution_count": null,
   "metadata": {},
   "outputs": [],
   "source": []
  },
  {
   "cell_type": "code",
   "execution_count": 28,
   "metadata": {},
   "outputs": [],
   "source": [
    "#fILTER for Abnormal\n",
    "dfAbnormal = df.filter(df.Status == 'Abnormal' )"
   ]
  },
  {
   "cell_type": "code",
   "execution_count": 30,
   "metadata": {},
   "outputs": [],
   "source": [
    "dfAbnormal= dfAbnormal.withColumn(\"Power_range_sensor_1\",dfAbnormal[\"Power_range_sensor_1\"].cast(IntegerType()))\n",
    "dfAbnormal= dfAbnormal.withColumn(\"Power_range_sensor_2\",dfAbnormal[\"Power_range_sensor_2\"].cast(IntegerType()))\n",
    "dfAbnormal= dfAbnormal.withColumn(\"Power_range_sensor_3 \",dfAbnormal[\"Power_range_sensor_3 \"].cast(IntegerType()))\n",
    "dfAbnormal= dfAbnormal.withColumn(\"Power_range_sensor_4\",dfAbnormal[\"Power_range_sensor_4\"].cast(IntegerType()))\n",
    "\n",
    "dfAbnormal= dfAbnormal.withColumn(\"Pressure _sensor_1\",dfAbnormal[\"Pressure _sensor_1\"].cast(IntegerType()))\n",
    "dfAbnormal= dfAbnormal.withColumn(\"Pressure _sensor_2\",dfAbnormal[\"Pressure _sensor_2\"].cast(IntegerType()))\n",
    "dfAbnormal= dfAbnormal.withColumn(\"Pressure _sensor_3\",dfAbnormal[\"Pressure _sensor_3\"].cast(IntegerType()))\n",
    "dfAbnormal= dfAbnormal.withColumn(\"Pressure _sensor_4\",dfAbnormal[\"Pressure _sensor_4\"].cast(IntegerType()))\n",
    "\n",
    "dfAbnormal= dfAbnormal.withColumn(\"Vibration_sensor_1\",dfAbnormal[\"Vibration_sensor_1\"].cast(IntegerType()))\n",
    "dfAbnormal= dfAbnormal.withColumn(\"Vibration_sensor_2\",dfAbnormal[\"Vibration_sensor_2\"].cast(IntegerType()))\n",
    "dfAbnormal= dfAbnormal.withColumn(\"Vibration_sensor_3\",dfAbnormal[\"Vibration_sensor_3\"].cast(IntegerType()))\n",
    "dfAbnormal= dfAbnormal.withColumn(\"Vibration_sensor_4\",dfAbnormal[\"Vibration_sensor_4\"].cast(IntegerType()))"
   ]
  },
  {
   "cell_type": "code",
   "execution_count": 31,
   "metadata": {},
   "outputs": [],
   "source": [
    "output= assembler.transform(dfAbnormal)"
   ]
  },
  {
   "cell_type": "code",
   "execution_count": 32,
   "metadata": {},
   "outputs": [],
   "source": [
    "indexer=StringIndexer(inputCol=\"Status\",outputCol=\"Status_ind\")\n",
    "indexed=indexer.fit(output).transform(output)"
   ]
  },
  {
   "cell_type": "code",
   "execution_count": 33,
   "metadata": {},
   "outputs": [],
   "source": [
    "df_fix = indexed.select(\"features\", \"Status_ind\")"
   ]
  },
  {
   "cell_type": "code",
   "execution_count": 34,
   "metadata": {},
   "outputs": [],
   "source": [
    "training_df,test_df=df_fix.randomSplit([0.7,0.3], seed=50)"
   ]
  },
  {
   "cell_type": "markdown",
   "metadata": {},
   "source": [
    "### How many examples in each group for the training dataset? (Abnormal Group:338)"
   ]
  },
  {
   "cell_type": "code",
   "execution_count": 36,
   "metadata": {},
   "outputs": [
    {
     "name": "stdout",
     "output_type": "stream",
     "text": [
      "338\n"
     ]
    }
   ],
   "source": [
    "print(training_df.count())"
   ]
  },
  {
   "cell_type": "markdown",
   "metadata": {},
   "source": [
    "### How many examples in each group for the test dataset? (Abnormal Group:160)"
   ]
  },
  {
   "cell_type": "code",
   "execution_count": 37,
   "metadata": {},
   "outputs": [
    {
     "name": "stdout",
     "output_type": "stream",
     "text": [
      "160\n"
     ]
    }
   ],
   "source": [
    "print(test_df.count())"
   ]
  },
  {
   "cell_type": "code",
   "execution_count": null,
   "metadata": {},
   "outputs": [],
   "source": []
  },
  {
   "cell_type": "markdown",
   "metadata": {},
   "source": [
    "## Total dataset"
   ]
  },
  {
   "cell_type": "code",
   "execution_count": 38,
   "metadata": {},
   "outputs": [],
   "source": [
    "from pyspark.sql.types import IntegerType,BooleanType,DateType\n",
    "\n",
    "df= df.withColumn(\"Power_range_sensor_1\",df[\"Power_range_sensor_1\"].cast(IntegerType()))\n",
    "df= df.withColumn(\"Power_range_sensor_2\",df[\"Power_range_sensor_2\"].cast(IntegerType()))\n",
    "df= df.withColumn(\"Power_range_sensor_3 \",df[\"Power_range_sensor_3 \"].cast(IntegerType()))\n",
    "df= df.withColumn(\"Power_range_sensor_4\",df[\"Power_range_sensor_4\"].cast(IntegerType()))\n",
    "\n",
    "df= df.withColumn(\"Pressure _sensor_1\",df[\"Pressure _sensor_1\"].cast(IntegerType()))\n",
    "df= df.withColumn(\"Pressure _sensor_2\",df[\"Pressure _sensor_2\"].cast(IntegerType()))\n",
    "df= df.withColumn(\"Pressure _sensor_3\",df[\"Pressure _sensor_3\"].cast(IntegerType()))\n",
    "df= df.withColumn(\"Pressure _sensor_4\",df[\"Pressure _sensor_4\"].cast(IntegerType()))\n",
    "\n",
    "df= df.withColumn(\"Vibration_sensor_1\",df[\"Vibration_sensor_1\"].cast(IntegerType()))\n",
    "df= df.withColumn(\"Vibration_sensor_2\",df[\"Vibration_sensor_2\"].cast(IntegerType()))\n",
    "df= df.withColumn(\"Vibration_sensor_3\",df[\"Vibration_sensor_3\"].cast(IntegerType()))\n",
    "df= df.withColumn(\"Vibration_sensor_4\",df[\"Vibration_sensor_4\"].cast(IntegerType()))"
   ]
  },
  {
   "cell_type": "code",
   "execution_count": 39,
   "metadata": {},
   "outputs": [],
   "source": [
    "output= assembler.transform(df)"
   ]
  },
  {
   "cell_type": "code",
   "execution_count": 40,
   "metadata": {},
   "outputs": [],
   "source": [
    "indexer=StringIndexer(inputCol=\"Status\",outputCol=\"Status_ind\")\n",
    "indexed=indexer.fit(output).transform(output)"
   ]
  },
  {
   "cell_type": "code",
   "execution_count": 41,
   "metadata": {},
   "outputs": [],
   "source": [
    "df_fix = indexed.select(\"features\", \"Status_ind\")"
   ]
  },
  {
   "cell_type": "code",
   "execution_count": 42,
   "metadata": {},
   "outputs": [],
   "source": [
    "training_df,test_df=df_fix.randomSplit([0.7,0.3], seed=50)"
   ]
  },
  {
   "cell_type": "markdown",
   "metadata": {},
   "source": [
    "### How many examples in each group for the training dataset? (total:686)"
   ]
  },
  {
   "cell_type": "code",
   "execution_count": 43,
   "metadata": {},
   "outputs": [
    {
     "name": "stdout",
     "output_type": "stream",
     "text": [
      "686\n"
     ]
    }
   ],
   "source": [
    "print(training_df.count())"
   ]
  },
  {
   "cell_type": "markdown",
   "metadata": {},
   "source": [
    "### How many examples in each group for the test dataset? (total:310)"
   ]
  },
  {
   "cell_type": "code",
   "execution_count": 44,
   "metadata": {},
   "outputs": [
    {
     "name": "stdout",
     "output_type": "stream",
     "text": [
      "310\n"
     ]
    }
   ],
   "source": [
    "print(test_df.count())"
   ]
  },
  {
   "cell_type": "code",
   "execution_count": null,
   "metadata": {},
   "outputs": [],
   "source": []
  }
 ],
 "metadata": {
  "kernelspec": {
   "display_name": "Python 3",
   "language": "python",
   "name": "python3"
  },
  "language_info": {
   "codemirror_mode": {
    "name": "ipython",
    "version": 3
   },
   "file_extension": ".py",
   "mimetype": "text/x-python",
   "name": "python",
   "nbconvert_exporter": "python",
   "pygments_lexer": "ipython3",
   "version": "3.8.8"
  }
 },
 "nbformat": 4,
 "nbformat_minor": 4
}
