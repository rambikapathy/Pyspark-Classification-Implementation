{
 "cells": [
  {
   "cell_type": "markdown",
   "metadata": {},
   "source": [
    "# Big Data (Task 5) <br>\n"
   ]
  },
  {
   "cell_type": "code",
   "execution_count": 1,
   "metadata": {},
   "outputs": [],
   "source": [
    "from pyspark.sql import SparkSession\n",
    "from pyspark.ml.stat import Correlation\n",
    "import pyspark.sql.functions as F\n",
    "from pyspark.ml.feature import StringIndexer\n",
    "from pyspark.ml.feature import VectorAssembler\n",
    "from pyspark.ml.classification import DecisionTreeClassifier, LinearSVC, MultilayerPerceptronClassifier\n",
    "\n",
    "from pyspark.ml.evaluation import MulticlassClassificationEvaluator"
   ]
  },
  {
   "cell_type": "code",
   "execution_count": 2,
   "metadata": {},
   "outputs": [],
   "source": [
    "spark = SparkSession.builder.getOrCreate()"
   ]
  },
  {
   "cell_type": "code",
   "execution_count": 3,
   "metadata": {},
   "outputs": [],
   "source": [
    "df = spark.read.csv(\"nuclear_plants_small_dataset.csv\",inferSchema=True,header=True)"
   ]
  },
  {
   "cell_type": "code",
   "execution_count": 4,
   "metadata": {},
   "outputs": [],
   "source": [
    "from pyspark.sql.types import IntegerType,BooleanType,DateType\n",
    "\n",
    "df= df.withColumn(\"Power_range_sensor_1\",df[\"Power_range_sensor_1\"].cast(IntegerType()))\n",
    "df= df.withColumn(\"Power_range_sensor_2\",df[\"Power_range_sensor_2\"].cast(IntegerType()))\n",
    "df= df.withColumn(\"Power_range_sensor_3 \",df[\"Power_range_sensor_3 \"].cast(IntegerType()))\n",
    "df= df.withColumn(\"Power_range_sensor_4\",df[\"Power_range_sensor_4\"].cast(IntegerType()))\n",
    "\n",
    "df= df.withColumn(\"Pressure _sensor_1\",df[\"Pressure _sensor_1\"].cast(IntegerType()))\n",
    "df= df.withColumn(\"Pressure _sensor_2\",df[\"Pressure _sensor_2\"].cast(IntegerType()))\n",
    "df= df.withColumn(\"Pressure _sensor_3\",df[\"Pressure _sensor_3\"].cast(IntegerType()))\n",
    "df= df.withColumn(\"Pressure _sensor_4\",df[\"Pressure _sensor_4\"].cast(IntegerType()))\n",
    "\n",
    "df= df.withColumn(\"Vibration_sensor_1\",df[\"Vibration_sensor_1\"].cast(IntegerType()))\n",
    "df= df.withColumn(\"Vibration_sensor_2\",df[\"Vibration_sensor_2\"].cast(IntegerType()))\n",
    "df= df.withColumn(\"Vibration_sensor_3\",df[\"Vibration_sensor_3\"].cast(IntegerType()))\n",
    "df= df.withColumn(\"Vibration_sensor_4\",df[\"Vibration_sensor_4\"].cast(IntegerType()))"
   ]
  },
  {
   "cell_type": "code",
   "execution_count": 5,
   "metadata": {},
   "outputs": [],
   "source": [
    "assembler= VectorAssembler(inputCols=['Power_range_sensor_1',\n",
    " 'Power_range_sensor_2',\n",
    " 'Power_range_sensor_3 ',\n",
    " 'Power_range_sensor_4',\n",
    " 'Pressure _sensor_1',\n",
    " 'Pressure _sensor_2',\n",
    " 'Pressure _sensor_3',\n",
    " 'Pressure _sensor_4',\n",
    " 'Vibration_sensor_1',\n",
    " 'Vibration_sensor_2',\n",
    " 'Vibration_sensor_3',\n",
    " 'Vibration_sensor_4'],outputCol='features')"
   ]
  },
  {
   "cell_type": "code",
   "execution_count": 6,
   "metadata": {},
   "outputs": [],
   "source": [
    "output= assembler.transform(df)"
   ]
  },
  {
   "cell_type": "code",
   "execution_count": 7,
   "metadata": {},
   "outputs": [],
   "source": [
    "indexer=StringIndexer(inputCol=\"Status\",outputCol=\"Status_ind\")\n",
    "indexed=indexer.fit(output).transform(output)"
   ]
  },
  {
   "cell_type": "code",
   "execution_count": 8,
   "metadata": {},
   "outputs": [],
   "source": [
    "df_fix = indexed.select(\"features\", \"Status_ind\")"
   ]
  },
  {
   "cell_type": "code",
   "execution_count": 9,
   "metadata": {},
   "outputs": [
    {
     "data": {
      "text/plain": [
       "['Status',\n",
       " 'Power_range_sensor_1',\n",
       " 'Power_range_sensor_2',\n",
       " 'Power_range_sensor_3 ',\n",
       " 'Power_range_sensor_4',\n",
       " 'Pressure _sensor_1',\n",
       " 'Pressure _sensor_2',\n",
       " 'Pressure _sensor_3',\n",
       " 'Pressure _sensor_4',\n",
       " 'Vibration_sensor_1',\n",
       " 'Vibration_sensor_2',\n",
       " 'Vibration_sensor_3',\n",
       " 'Vibration_sensor_4',\n",
       " 'features',\n",
       " 'Status_ind']"
      ]
     },
     "execution_count": 9,
     "metadata": {},
     "output_type": "execute_result"
    }
   ],
   "source": [
    "indexed.columns"
   ]
  },
  {
   "cell_type": "markdown",
   "metadata": {},
   "source": [
    "Shuffle the dataset using randomSplit then split the dataset into 70% training and 30% test set"
   ]
  },
  {
   "cell_type": "code",
   "execution_count": 10,
   "metadata": {},
   "outputs": [],
   "source": [
    "training_df,test_df=df_fix.randomSplit([0.7,0.3], seed=50)"
   ]
  },
  {
   "cell_type": "code",
   "execution_count": 11,
   "metadata": {},
   "outputs": [
    {
     "name": "stdout",
     "output_type": "stream",
     "text": [
      "root\n",
      " |-- Status: string (nullable = true)\n",
      " |-- Power_range_sensor_1: integer (nullable = true)\n",
      " |-- Power_range_sensor_2: integer (nullable = true)\n",
      " |-- Power_range_sensor_3 : integer (nullable = true)\n",
      " |-- Power_range_sensor_4: integer (nullable = true)\n",
      " |-- Pressure _sensor_1: integer (nullable = true)\n",
      " |-- Pressure _sensor_2: integer (nullable = true)\n",
      " |-- Pressure _sensor_3: integer (nullable = true)\n",
      " |-- Pressure _sensor_4: integer (nullable = true)\n",
      " |-- Vibration_sensor_1: integer (nullable = true)\n",
      " |-- Vibration_sensor_2: integer (nullable = true)\n",
      " |-- Vibration_sensor_3: integer (nullable = true)\n",
      " |-- Vibration_sensor_4: integer (nullable = true)\n",
      "\n"
     ]
    }
   ],
   "source": [
    "df.printSchema()"
   ]
  },
  {
   "cell_type": "markdown",
   "metadata": {},
   "source": [
    "### Decision Tree"
   ]
  },
  {
   "cell_type": "code",
   "execution_count": 12,
   "metadata": {},
   "outputs": [],
   "source": [
    "#Decision Tree\n",
    "df_classifier = DecisionTreeClassifier(labelCol=\"Status_ind\", featuresCol=\"features\").fit(training_df)"
   ]
  },
  {
   "cell_type": "code",
   "execution_count": 13,
   "metadata": {},
   "outputs": [],
   "source": [
    "df_pred = df_classifier.transform(test_df)"
   ]
  },
  {
   "cell_type": "code",
   "execution_count": 14,
   "metadata": {},
   "outputs": [],
   "source": [
    "df_accuracy = MulticlassClassificationEvaluator(labelCol=\"Status_ind\",predictionCol= \"prediction\",metricName=\"accuracy\").evaluate(df_pred)"
   ]
  },
  {
   "cell_type": "markdown",
   "metadata": {},
   "source": [
    "### Predicted Label"
   ]
  },
  {
   "cell_type": "code",
   "execution_count": 15,
   "metadata": {},
   "outputs": [
    {
     "name": "stdout",
     "output_type": "stream",
     "text": [
      "root\n",
      " |-- features: vector (nullable = true)\n",
      " |-- Status_ind: double (nullable = false)\n",
      " |-- rawPrediction: vector (nullable = true)\n",
      " |-- probability: vector (nullable = true)\n",
      " |-- prediction: double (nullable = false)\n",
      "\n"
     ]
    },
    {
     "name": "stderr",
     "output_type": "stream",
     "text": [
      "C:\\Users\\rishi\\anaconda3\\lib\\site-packages\\pyspark\\sql\\context.py:125: FutureWarning: Deprecated in 3.0.0. Use SparkSession.builder.getOrCreate() instead.\n",
      "  warnings.warn(\n"
     ]
    }
   ],
   "source": [
    "from pyspark.ml.classification import LogisticRegression\n",
    "log_reg=LogisticRegression(labelCol=\"Status_ind\").fit(training_df)\n",
    "\n",
    "results=log_reg.evaluate(test_df).predictions\n",
    "results.printSchema()"
   ]
  },
  {
   "cell_type": "code",
   "execution_count": 16,
   "metadata": {},
   "outputs": [
    {
     "name": "stdout",
     "output_type": "stream",
     "text": [
      "+------------------------------------------------------+----------+\n",
      "|features                                              |prediction|\n",
      "+------------------------------------------------------+----------+\n",
      "|[0.0,3.0,3.0,4.0,12.0,2.0,3.0,0.0,16.0,17.0,0.0,15.0] |0.0       |\n",
      "|[0.0,3.0,4.0,3.0,23.0,0.0,5.0,1.0,17.0,10.0,1.0,14.0] |0.0       |\n",
      "|[0.0,3.0,5.0,2.0,21.0,0.0,5.0,1.0,20.0,13.0,6.0,6.0]  |0.0       |\n",
      "|[0.0,4.0,5.0,2.0,15.0,2.0,3.0,0.0,30.0,12.0,8.0,16.0] |0.0       |\n",
      "|[0.0,4.0,6.0,7.0,42.0,0.0,2.0,0.0,5.0,5.0,4.0,7.0]    |0.0       |\n",
      "|[0.0,4.0,6.0,8.0,36.0,0.0,3.0,3.0,13.0,8.0,12.0,2.0]  |0.0       |\n",
      "|[0.0,4.0,8.0,4.0,6.0,2.0,5.0,0.0,9.0,9.0,11.0,6.0]    |0.0       |\n",
      "|[0.0,4.0,8.0,4.0,8.0,2.0,4.0,0.0,7.0,5.0,13.0,11.0]   |0.0       |\n",
      "|[0.0,5.0,5.0,3.0,14.0,0.0,6.0,0.0,27.0,22.0,6.0,3.0]  |0.0       |\n",
      "|[0.0,5.0,7.0,2.0,17.0,0.0,8.0,0.0,13.0,27.0,4.0,2.0]  |0.0       |\n",
      "|[0.0,5.0,7.0,7.0,21.0,1.0,2.0,3.0,11.0,18.0,20.0,6.0] |0.0       |\n",
      "|[0.0,5.0,8.0,1.0,14.0,0.0,8.0,1.0,11.0,23.0,2.0,9.0]  |0.0       |\n",
      "|[0.0,6.0,8.0,2.0,15.0,1.0,7.0,1.0,8.0,27.0,5.0,12.0]  |0.0       |\n",
      "|[0.0,8.0,11.0,0.0,23.0,2.0,8.0,1.0,17.0,5.0,8.0,8.0]  |0.0       |\n",
      "|[0.0,9.0,9.0,0.0,1.0,1.0,7.0,0.0,8.0,20.0,1.0,2.0]    |0.0       |\n",
      "|[0.0,9.0,10.0,0.0,4.0,0.0,10.0,1.0,0.0,4.0,11.0,9.0]  |0.0       |\n",
      "|[0.0,10.0,10.0,7.0,6.0,1.0,6.0,0.0,16.0,7.0,33.0,16.0]|1.0       |\n",
      "|[1.0,0.0,5.0,2.0,28.0,0.0,2.0,5.0,11.0,1.0,3.0,2.0]   |0.0       |\n",
      "|[1.0,1.0,6.0,1.0,1.0,0.0,5.0,6.0,18.0,4.0,5.0,0.0]    |0.0       |\n",
      "|[1.0,1.0,6.0,2.0,22.0,0.0,4.0,4.0,2.0,21.0,5.0,21.0]  |0.0       |\n",
      "+------------------------------------------------------+----------+\n",
      "only showing top 20 rows\n",
      "\n"
     ]
    }
   ],
   "source": [
    "results.select([\"features\",\"prediction\"]).show(20,False)"
   ]
  },
  {
   "cell_type": "markdown",
   "metadata": {},
   "source": [
    "### Decision Tree Accuracy"
   ]
  },
  {
   "cell_type": "code",
   "execution_count": 17,
   "metadata": {},
   "outputs": [],
   "source": [
    "df_accuracy = MulticlassClassificationEvaluator(labelCol=\"Status_ind\",predictionCol= \"prediction\",metricName=\"accuracy\").evaluate(df_pred)"
   ]
  },
  {
   "cell_type": "code",
   "execution_count": 18,
   "metadata": {},
   "outputs": [
    {
     "data": {
      "text/plain": [
       "74.83870967741936"
      ]
     },
     "execution_count": 18,
     "metadata": {},
     "output_type": "execute_result"
    }
   ],
   "source": [
    "df_accuracy*100"
   ]
  },
  {
   "cell_type": "markdown",
   "metadata": {},
   "source": [
    "### Decision Tree Error Rate"
   ]
  },
  {
   "cell_type": "code",
   "execution_count": 19,
   "metadata": {},
   "outputs": [],
   "source": [
    "df_error = 100 - df_accuracy*100"
   ]
  },
  {
   "cell_type": "code",
   "execution_count": 20,
   "metadata": {},
   "outputs": [
    {
     "data": {
      "text/plain": [
       "25.16129032258064"
      ]
     },
     "execution_count": 20,
     "metadata": {},
     "output_type": "execute_result"
    }
   ],
   "source": [
    "df_error"
   ]
  },
  {
   "cell_type": "markdown",
   "metadata": {},
   "source": [
    "### Confusion Matrix"
   ]
  },
  {
   "cell_type": "markdown",
   "metadata": {},
   "source": [
    "#### True Positive"
   ]
  },
  {
   "cell_type": "code",
   "execution_count": 21,
   "metadata": {},
   "outputs": [],
   "source": [
    "# confusion matrix\n",
    "tp = df_pred[(df_pred.Status_ind== 1) & (df_pred.prediction== 1)].count()"
   ]
  },
  {
   "cell_type": "code",
   "execution_count": 22,
   "metadata": {},
   "outputs": [
    {
     "data": {
      "text/plain": [
       "111"
      ]
     },
     "execution_count": 22,
     "metadata": {},
     "output_type": "execute_result"
    }
   ],
   "source": [
    "tp"
   ]
  },
  {
   "cell_type": "markdown",
   "metadata": {},
   "source": [
    "#### True Negative"
   ]
  },
  {
   "cell_type": "code",
   "execution_count": 23,
   "metadata": {},
   "outputs": [],
   "source": [
    "tn = df_pred[(df_pred.Status_ind == 0) & (df_pred.prediction ==0)].count()"
   ]
  },
  {
   "cell_type": "code",
   "execution_count": 24,
   "metadata": {},
   "outputs": [
    {
     "data": {
      "text/plain": [
       "121"
      ]
     },
     "execution_count": 24,
     "metadata": {},
     "output_type": "execute_result"
    }
   ],
   "source": [
    "tn"
   ]
  },
  {
   "cell_type": "markdown",
   "metadata": {},
   "source": [
    "#### False Positive"
   ]
  },
  {
   "cell_type": "code",
   "execution_count": 25,
   "metadata": {},
   "outputs": [],
   "source": [
    "fp = df_pred[(df_pred.Status_ind == 0) & (df_pred.prediction == 1)].count()"
   ]
  },
  {
   "cell_type": "code",
   "execution_count": 26,
   "metadata": {},
   "outputs": [
    {
     "data": {
      "text/plain": [
       "38"
      ]
     },
     "execution_count": 26,
     "metadata": {},
     "output_type": "execute_result"
    }
   ],
   "source": [
    "fp"
   ]
  },
  {
   "cell_type": "markdown",
   "metadata": {},
   "source": [
    "#### False Negative"
   ]
  },
  {
   "cell_type": "code",
   "execution_count": 27,
   "metadata": {},
   "outputs": [],
   "source": [
    "fn = df_pred[(df_pred.Status_ind == 1) & (df_pred.prediction ==0)].count()"
   ]
  },
  {
   "cell_type": "code",
   "execution_count": 28,
   "metadata": {},
   "outputs": [
    {
     "data": {
      "text/plain": [
       "40"
      ]
     },
     "execution_count": 28,
     "metadata": {},
     "output_type": "execute_result"
    }
   ],
   "source": [
    "fn"
   ]
  },
  {
   "cell_type": "markdown",
   "metadata": {},
   "source": [
    "#### Accuracy"
   ]
  },
  {
   "cell_type": "code",
   "execution_count": 29,
   "metadata": {},
   "outputs": [],
   "source": [
    "# accuracy\n",
    "accuracy=float((tp+tn)/(results.count()))"
   ]
  },
  {
   "cell_type": "code",
   "execution_count": 30,
   "metadata": {},
   "outputs": [
    {
     "data": {
      "text/plain": [
       "74.83870967741936"
      ]
     },
     "execution_count": 30,
     "metadata": {},
     "output_type": "execute_result"
    }
   ],
   "source": [
    "accuracy*100"
   ]
  },
  {
   "cell_type": "code",
   "execution_count": 31,
   "metadata": {},
   "outputs": [],
   "source": [
    "# recall\n",
    "recall = float(tn)/(tp + tn)"
   ]
  },
  {
   "cell_type": "markdown",
   "metadata": {},
   "source": [
    "### Decision Tree Error rate  (`Incorrectly Classified Samples’ divided by Classified Sample’)"
   ]
  },
  {
   "cell_type": "markdown",
   "metadata": {},
   "source": [
    "### Error rate (FP + FN) /(p+n) <br>"
   ]
  },
  {
   "cell_type": "code",
   "execution_count": 32,
   "metadata": {},
   "outputs": [
    {
     "name": "stdout",
     "output_type": "stream",
     "text": [
      "996\n"
     ]
    }
   ],
   "source": [
    "# total rows in test dataset\n",
    "totaltestrows = df.count()\n",
    "print(totaltestrows)\n"
   ]
  },
  {
   "cell_type": "code",
   "execution_count": 33,
   "metadata": {},
   "outputs": [],
   "source": [
    "#Calculate total positives from dataset\n",
    "positive = fp + tp\n",
    "\n",
    "#Calculate total negatives from dataset\n",
    "negative = fn + tn"
   ]
  },
  {
   "cell_type": "code",
   "execution_count": 34,
   "metadata": {},
   "outputs": [
    {
     "data": {
      "text/plain": [
       "310"
      ]
     },
     "execution_count": 34,
     "metadata": {},
     "output_type": "execute_result"
    }
   ],
   "source": [
    "total = positive + negative\n",
    "total"
   ]
  },
  {
   "cell_type": "code",
   "execution_count": 35,
   "metadata": {},
   "outputs": [
    {
     "data": {
      "text/plain": [
       "78"
      ]
     },
     "execution_count": 35,
     "metadata": {},
     "output_type": "execute_result"
    }
   ],
   "source": [
    "totalFalse = fp + fn\n",
    "totalFalse"
   ]
  },
  {
   "cell_type": "code",
   "execution_count": 36,
   "metadata": {},
   "outputs": [
    {
     "data": {
      "text/plain": [
       "25.161290322580644"
      ]
     },
     "execution_count": 36,
     "metadata": {},
     "output_type": "execute_result"
    }
   ],
   "source": [
    "Errorrate = totalFalse / total\n",
    "Errorrate*100"
   ]
  },
  {
   "cell_type": "markdown",
   "metadata": {},
   "source": [
    "## Specificity (tn/n)  <br>\n",
    "\n",
    "Specificity (SP) is calculated as the number of correct negative predictions divided by the total number of negatives. It is also called true negative rate (TNR). The best specificity is 1.0, whereas the worst is 0.0."
   ]
  },
  {
   "cell_type": "code",
   "execution_count": 37,
   "metadata": {},
   "outputs": [
    {
     "data": {
      "text/plain": [
       "0.7515527950310559"
      ]
     },
     "execution_count": 37,
     "metadata": {},
     "output_type": "execute_result"
    }
   ],
   "source": [
    "specificity = tn / negative\n",
    "specificity"
   ]
  },
  {
   "cell_type": "markdown",
   "metadata": {},
   "source": [
    "## Sensitivity (tp/p)  <br>\n",
    "\n",
    "Sensitivity (Recall or True positive rate)\n",
    "Sensitivity (SN) is calculated as the number of correct positive predictions divided by the total number of positives. It is also called recall (REC) or true positive rate (TPR). The best sensitivity is 1.0, whereas the worst is 0.0."
   ]
  },
  {
   "cell_type": "code",
   "execution_count": 38,
   "metadata": {},
   "outputs": [
    {
     "data": {
      "text/plain": [
       "0.7449664429530202"
      ]
     },
     "execution_count": 38,
     "metadata": {},
     "output_type": "execute_result"
    }
   ],
   "source": [
    "sensitivity = tp / positive\n",
    "sensitivity"
   ]
  },
  {
   "cell_type": "code",
   "execution_count": null,
   "metadata": {},
   "outputs": [],
   "source": []
  }
 ],
 "metadata": {
  "kernelspec": {
   "display_name": "Python 3",
   "language": "python",
   "name": "python3"
  },
  "language_info": {
   "codemirror_mode": {
    "name": "ipython",
    "version": 3
   },
   "file_extension": ".py",
   "mimetype": "text/x-python",
   "name": "python",
   "nbconvert_exporter": "python",
   "pygments_lexer": "ipython3",
   "version": "3.8.8"
  }
 },
 "nbformat": 4,
 "nbformat_minor": 4
}
