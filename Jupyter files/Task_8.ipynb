{
 "cells": [
  {
   "cell_type": "markdown",
   "id": "855c6af4",
   "metadata": {},
   "source": [
    "## Task 8 (Mapreduce) - BigData"
   ]
  },
  {
   "cell_type": "markdown",
   "id": "fac708a2",
   "metadata": {},
   "source": [
    "#### import required libraries"
   ]
  },
  {
   "cell_type": "code",
   "execution_count": 1,
   "id": "7da5dc3f",
   "metadata": {},
   "outputs": [],
   "source": [
    "import numpy\n",
    "import pyspark"
   ]
  },
  {
   "cell_type": "markdown",
   "id": "7d86ee5b",
   "metadata": {},
   "source": [
    "#### define the dataset to a variable"
   ]
  },
  {
   "cell_type": "code",
   "execution_count": 2,
   "id": "2b42e8bb",
   "metadata": {},
   "outputs": [],
   "source": [
    "df_big = \"nuclear_plants_big_dataset.csv\""
   ]
  },
  {
   "cell_type": "markdown",
   "id": "75be3da6",
   "metadata": {},
   "source": [
    "#### initialize spark context and session"
   ]
  },
  {
   "cell_type": "code",
   "execution_count": null,
   "id": "c0cdcf91",
   "metadata": {},
   "outputs": [],
   "source": [
    "sc = pyspark.SparkContext()"
   ]
  },
  {
   "cell_type": "code",
   "execution_count": 4,
   "id": "53db7b13",
   "metadata": {},
   "outputs": [],
   "source": [
    "from pyspark import SparkContext"
   ]
  },
  {
   "cell_type": "code",
   "execution_count": 5,
   "id": "daef4e50",
   "metadata": {},
   "outputs": [],
   "source": [
    "#Import sprk context and session from pysprk\n",
    "from pyspark.sql import SparkSession\n",
    "from pyspark import SparkContext"
   ]
  },
  {
   "cell_type": "markdown",
   "id": "7c869e5e",
   "metadata": {},
   "source": [
    "#### Spark builder"
   ]
  },
  {
   "cell_type": "code",
   "execution_count": 6,
   "id": "2237d404",
   "metadata": {},
   "outputs": [],
   "source": [
    "spark = SparkSession.builder \\\n",
    "    .master(\"local\") \\\n",
    "    .appName(\"nuclearBig\") \\\n",
    "    .getOrCreate()\n",
    "    #.master specifies local url to run on one thread\n",
    "    #.appname appoints unique name identfier for  application, to be shown within Spark UI"
   ]
  },
  {
   "cell_type": "markdown",
   "id": "65860a2f",
   "metadata": {},
   "source": [
    "### Map & Split"
   ]
  },
  {
   "cell_type": "markdown",
   "id": "f3d9fdd0",
   "metadata": {},
   "source": [
    "#### import to rdd"
   ]
  },
  {
   "cell_type": "code",
   "execution_count": 7,
   "id": "2bdf61ae",
   "metadata": {},
   "outputs": [],
   "source": [
    "#Here the dataset is imported into rdd.\n",
    "#map function transforms using lambda on each of the 12 features within the RDD\n",
    "#Splitting is occured prior to\n",
    "#Comma is used to separate each of the 12 features column elements.\n",
    "df_big2 = spark.sparkContext.textFile(df_big).map(lambda x: x.split(\",\"))\n",
    "#lambda constructs an inline function within rdd.\n",
    "# .Map apply  transformation lambda on each element within dataset"
   ]
  },
  {
   "cell_type": "markdown",
   "id": "b80b98c7",
   "metadata": {},
   "source": [
    "#### remove column Status"
   ]
  },
  {
   "cell_type": "code",
   "execution_count": 8,
   "id": "77975960",
   "metadata": {},
   "outputs": [
    {
     "name": "stderr",
     "output_type": "stream",
     "text": [
      "                                                                                \r"
     ]
    }
   ],
   "source": [
    "#We need to remove the status column, hence it is in string value and not integer\n",
    "#This limits the lambda transformation taking place.\n",
    "df_big_big2 = df_big2.map(lambda x: x[1:])\n",
    "#convert_rdd variable take/obtains the title of each feature within the rdd\n",
    "#[1,0] refering to the first column\n",
    "convert_rdd = df_big_big2.take(1)[0]\n",
    "#now the Status column is filtered using .filter and dropped from the rdd\n",
    "convert2_rdd = df_big_big2.filter(lambda line: line != convert_rdd)"
   ]
  },
  {
   "cell_type": "markdown",
   "id": "d5ce7724",
   "metadata": {},
   "source": [
    "#### compute map function"
   ]
  },
  {
   "cell_type": "code",
   "execution_count": 12,
   "id": "cf8ec8ea",
   "metadata": {},
   "outputs": [
    {
     "name": "stdout",
     "output_type": "stream",
     "text": [
      "Power_range_sensor_1:\n"
     ]
    },
    {
     "name": "stderr",
     "output_type": "stream",
     "text": [
      "                                                                                \r"
     ]
    },
    {
     "name": "stdout",
     "output_type": "stream",
     "text": [
      " The mean is  6.113553211802789\n"
     ]
    },
    {
     "name": "stderr",
     "output_type": "stream",
     "text": [
      "                                                                                \r"
     ]
    },
    {
     "name": "stdout",
     "output_type": "stream",
     "text": [
      " minimum value is  0.085101889\n"
     ]
    },
    {
     "name": "stderr",
     "output_type": "stream",
     "text": [
      "                                                                                \r"
     ]
    },
    {
     "name": "stdout",
     "output_type": "stream",
     "text": [
      " maximum value is  12.12979591\n",
      "Power_range_sensor_2:\n"
     ]
    },
    {
     "name": "stderr",
     "output_type": "stream",
     "text": [
      "                                                                                \r"
     ]
    },
    {
     "name": "stdout",
     "output_type": "stream",
     "text": [
      " The mean is  5.990373860472407\n"
     ]
    },
    {
     "name": "stderr",
     "output_type": "stream",
     "text": [
      "                                                                                \r"
     ]
    },
    {
     "name": "stdout",
     "output_type": "stream",
     "text": [
      " minimum value is  0.040301865\n"
     ]
    },
    {
     "name": "stderr",
     "output_type": "stream",
     "text": [
      "                                                                                \r"
     ]
    },
    {
     "name": "stdout",
     "output_type": "stream",
     "text": [
      " maximum value is  11.92839597\n",
      "Power_range_sensor_3 :\n"
     ]
    },
    {
     "name": "stderr",
     "output_type": "stream",
     "text": [
      "                                                                                \r"
     ]
    },
    {
     "name": "stdout",
     "output_type": "stream",
     "text": [
      " The mean is  9.245323025446636\n"
     ]
    },
    {
     "name": "stderr",
     "output_type": "stream",
     "text": [
      "                                                                                \r"
     ]
    },
    {
     "name": "stdout",
     "output_type": "stream",
     "text": [
      " minimum value is  4.382601524\n"
     ]
    },
    {
     "name": "stderr",
     "output_type": "stream",
     "text": [
      "                                                                                \r"
     ]
    },
    {
     "name": "stdout",
     "output_type": "stream",
     "text": [
      " maximum value is  14.0981967\n",
      "Power_range_sensor_4:\n"
     ]
    },
    {
     "name": "stderr",
     "output_type": "stream",
     "text": [
      "                                                                                \r"
     ]
    },
    {
     "name": "stdout",
     "output_type": "stream",
     "text": [
      " The mean is  8.26395982241049\n"
     ]
    },
    {
     "name": "stderr",
     "output_type": "stream",
     "text": [
      "                                                                                \r"
     ]
    },
    {
     "name": "stdout",
     "output_type": "stream",
     "text": [
      " minimum value is  0.154702541\n"
     ]
    },
    {
     "name": "stderr",
     "output_type": "stream",
     "text": [
      "                                                                                \r"
     ]
    },
    {
     "name": "stdout",
     "output_type": "stream",
     "text": [
      " maximum value is  16.3567945\n",
      "Pressure _sensor_1:\n"
     ]
    },
    {
     "name": "stderr",
     "output_type": "stream",
     "text": [
      "                                                                                \r"
     ]
    },
    {
     "name": "stdout",
     "output_type": "stream",
     "text": [
      " The mean is  28.469297236238134\n"
     ]
    },
    {
     "name": "stderr",
     "output_type": "stream",
     "text": [
      "                                                                                \r"
     ]
    },
    {
     "name": "stdout",
     "output_type": "stream",
     "text": [
      " minimum value is  0.024808914\n"
     ]
    },
    {
     "name": "stderr",
     "output_type": "stream",
     "text": [
      "                                                                                \r"
     ]
    },
    {
     "name": "stdout",
     "output_type": "stream",
     "text": [
      " maximum value is  56.85618071\n",
      "Pressure _sensor_2:\n"
     ]
    },
    {
     "name": "stderr",
     "output_type": "stream",
     "text": [
      "                                                                                \r"
     ]
    },
    {
     "name": "stdout",
     "output_type": "stream",
     "text": [
      " The mean is  4.620467236484233\n"
     ]
    },
    {
     "name": "stderr",
     "output_type": "stream",
     "text": [
      "                                                                                \r"
     ]
    },
    {
     "name": "stdout",
     "output_type": "stream",
     "text": [
      " minimum value is  0.010401445\n"
     ]
    },
    {
     "name": "stderr",
     "output_type": "stream",
     "text": [
      "                                                                                \r"
     ]
    },
    {
     "name": "stdout",
     "output_type": "stream",
     "text": [
      " maximum value is  9.221196874\n",
      "Pressure _sensor_3:\n"
     ]
    },
    {
     "name": "stderr",
     "output_type": "stream",
     "text": [
      "                                                                                \r"
     ]
    },
    {
     "name": "stdout",
     "output_type": "stream",
     "text": [
      " The mean is  6.3688194390639215\n"
     ]
    },
    {
     "name": "stderr",
     "output_type": "stream",
     "text": [
      "                                                                                \r"
     ]
    },
    {
     "name": "stdout",
     "output_type": "stream",
     "text": [
      " minimum value is  0.077401972\n"
     ]
    },
    {
     "name": "stderr",
     "output_type": "stream",
     "text": [
      "                                                                                \r"
     ]
    },
    {
     "name": "stdout",
     "output_type": "stream",
     "text": [
      " maximum value is  12.64749573\n",
      "Pressure _sensor_4:\n"
     ]
    },
    {
     "name": "stderr",
     "output_type": "stream",
     "text": [
      "                                                                                \r"
     ]
    },
    {
     "name": "stdout",
     "output_type": "stream",
     "text": [
      " The mean is  7.564802741614645\n"
     ]
    },
    {
     "name": "stderr",
     "output_type": "stream",
     "text": [
      "                                                                                \r"
     ]
    },
    {
     "name": "stdout",
     "output_type": "stream",
     "text": [
      " minimum value is  0.005802369\n"
     ]
    },
    {
     "name": "stderr",
     "output_type": "stream",
     "text": [
      "                                                                                \r"
     ]
    },
    {
     "name": "stdout",
     "output_type": "stream",
     "text": [
      " maximum value is  15.10849487\n",
      "Vibration_sensor_1:\n"
     ]
    },
    {
     "name": "stderr",
     "output_type": "stream",
     "text": [
      "                                                                                \r"
     ]
    },
    {
     "name": "stdout",
     "output_type": "stream",
     "text": [
      " The mean is  15.769605849972079\n"
     ]
    },
    {
     "name": "stderr",
     "output_type": "stream",
     "text": [
      "                                                                                \r"
     ]
    },
    {
     "name": "stdout",
     "output_type": "stream",
     "text": [
      " minimum value is  0.009204939\n"
     ]
    },
    {
     "name": "stderr",
     "output_type": "stream",
     "text": [
      "                                                                                \r"
     ]
    },
    {
     "name": "stdout",
     "output_type": "stream",
     "text": [
      " maximum value is  31.49808931\n",
      "Vibration_sensor_2:\n"
     ]
    },
    {
     "name": "stderr",
     "output_type": "stream",
     "text": [
      "                                                                                \r"
     ]
    },
    {
     "name": "stdout",
     "output_type": "stream",
     "text": [
      " The mean is  17.465303846829173\n"
     ]
    },
    {
     "name": "stderr",
     "output_type": "stream",
     "text": [
      "                                                                                \r"
     ]
    },
    {
     "name": "stdout",
     "output_type": "stream",
     "text": [
      " minimum value is  0.027705465\n"
     ]
    },
    {
     "name": "stderr",
     "output_type": "stream",
     "text": [
      "                                                                                \r"
     ]
    },
    {
     "name": "stdout",
     "output_type": "stream",
     "text": [
      " maximum value is  34.86758818\n",
      "Vibration_sensor_3:\n"
     ]
    },
    {
     "name": "stderr",
     "output_type": "stream",
     "text": [
      "                                                                                \r"
     ]
    },
    {
     "name": "stdout",
     "output_type": "stream",
     "text": [
      " The mean is  26.678443881030635\n"
     ]
    },
    {
     "name": "stderr",
     "output_type": "stream",
     "text": [
      "                                                                                \r"
     ]
    },
    {
     "name": "stdout",
     "output_type": "stream",
     "text": [
      " minimum value is  0.06460834\n"
     ]
    },
    {
     "name": "stderr",
     "output_type": "stream",
     "text": [
      "                                                                                \r"
     ]
    },
    {
     "name": "stdout",
     "output_type": "stream",
     "text": [
      " maximum value is  53.23838196\n",
      "Vibration_sensor_4:\n"
     ]
    },
    {
     "name": "stderr",
     "output_type": "stream",
     "text": [
      "                                                                                \r"
     ]
    },
    {
     "name": "stdout",
     "output_type": "stream",
     "text": [
      " The mean is  21.679113825074435\n"
     ]
    },
    {
     "name": "stderr",
     "output_type": "stream",
     "text": [
      "                                                                                \r"
     ]
    },
    {
     "name": "stdout",
     "output_type": "stream",
     "text": [
      " minimum value is  0.083106768\n"
     ]
    },
    {
     "name": "stderr",
     "output_type": "stream",
     "text": [
      "[Stage 37:===========>                                              (1 + 4) / 5]\r"
     ]
    },
    {
     "name": "stdout",
     "output_type": "stream",
     "text": [
      " maximum value is  43.23138536\n"
     ]
    },
    {
     "name": "stderr",
     "output_type": "stream",
     "text": [
      "                                                                                \r"
     ]
    }
   ],
   "source": [
    "#the for loop transposes each of the 12 features elements to compute mean,min and max within the rdd\n",
    "\n",
    "for mprdce, en in enumerate(convert_rdd):\n",
    "#%s the start to first column on dataset\n",
    "#%en end of the datset\n",
    "    print('%s:'  %en)\n",
    "    \n",
    "#lambda function implements to the elements with the 0th index(Power_range_sensor1), then the elements of 1st index until the n-th(11th) index (Vibrate_Sensor_4)    \n",
    "    data_column = convert2_rdd.map(lambda x : float(x[mprdce]))\n",
    "    mean = data_column.mean()\n",
    "    print(' The mean is ',  mean)    \n",
    "    minimum = data_column.min()\n",
    "    print(\" minimum value is \", minimum)\n",
    "    maximum = data_column.max()\n",
    "    print(\" maximum value is \", maximum)"
   ]
  },
  {
   "cell_type": "code",
   "execution_count": null,
   "id": "37f2c839",
   "metadata": {},
   "outputs": [],
   "source": []
  },
  {
   "cell_type": "markdown",
   "id": "f2da8c2e",
   "metadata": {},
   "source": [
    "## Method2: ReduceBy "
   ]
  },
  {
   "cell_type": "markdown",
   "id": "8f782c4d",
   "metadata": {},
   "source": [
    "#### convert dataset to RDD"
   ]
  },
  {
   "cell_type": "code",
   "execution_count": null,
   "id": "51d81404",
   "metadata": {},
   "outputs": [],
   "source": [
    "#####  This  implementation method was a trial, may not work\n",
    "df_big1 = sc.textFile(df_big).map(lambda x: x.split(','))#split between commas"
   ]
  },
  {
   "cell_type": "markdown",
   "id": "1bf69cf2",
   "metadata": {},
   "source": [
    "#### Drop status "
   ]
  },
  {
   "cell_type": "code",
   "execution_count": null,
   "id": "63451655",
   "metadata": {},
   "outputs": [],
   "source": [
    "drop_status = df_big11.take(1)[0]#(1,0) refers to first column(Status)\n",
    "drop_status = df_big11.filter(lambda line: line != drop_status)"
   ]
  },
  {
   "cell_type": "code",
   "execution_count": null,
   "id": "4f2ee919",
   "metadata": {},
   "outputs": [],
   "source": [
    "#TUPLE groups 2 or more elements, in this scenario 12 during the lambda implementation.\n",
    "df_big1 = df_big1.map(lambda x: (x[0], tuple(x[1:])))\n",
    "\n",
    "#merges each elements with dataset utilizing reduce function, by shuffling dataset across multiple partitions, due to being a large dataset...\n",
    "#With RDD to compute maximum, mean and minimum\n",
    "df_big1_maximum = df_big1.reduceByKey(lambda x, y: max(x[0],y[0]))\n",
    "df_big1_maximum.collect()\n",
    "\n",
    "df_big1_minimum = df_big1.reduceByKey(lambda x, y: min(x[0],y[0]))\n",
    "df_big1_minimum.collect()\n",
    "\n",
    "#df_big1_mean = df_big1.reduceByKey(lambda x, y: mean(x[0],y[0]))\n",
    "#df_big1_mean.collect()"
   ]
  },
  {
   "cell_type": "code",
   "execution_count": null,
   "id": "61b047d8",
   "metadata": {},
   "outputs": [],
   "source": [
    "#sc.parallelize assigns the big data across multiple nodes \n",
    "parrallelize = sc.parallelize(df_big)\n",
    "\n",
    "#reduce function\n",
    "def reduce_data(comp, n):\n",
    "    print(comp, n)\n",
    "    if comp[1] > n[1]:\n",
    "        return(n)\n",
    "    else: return(comp)\n",
    "    \n",
    "#map function\n",
    "def map_thedata(column):\n",
    "    return (column[0], column[1])\n",
    "# this would return the mapped values for each column within dataset, starting with Power_range_sensor1 [0,1]\n",
    "\n",
    "parrallelize.map(map_thedata).keyBy(lambda x: x[0]).reduceByKey(reduce_data).map(lambda x : x[1]).collect()"
   ]
  },
  {
   "cell_type": "code",
   "execution_count": null,
   "id": "0ee77c93",
   "metadata": {},
   "outputs": [],
   "source": []
  },
  {
   "cell_type": "code",
   "execution_count": null,
   "id": "983284b1",
   "metadata": {},
   "outputs": [],
   "source": []
  },
  {
   "cell_type": "code",
   "execution_count": null,
   "id": "3ddeefdc",
   "metadata": {},
   "outputs": [],
   "source": []
  }
 ],
 "metadata": {
  "interpreter": {
   "hash": "2253626e4a986b9ad9b4c1dc14e5323bb1b6b24285368bcfe130085fd7780110"
  },
  "kernelspec": {
   "display_name": "Python 3",
   "language": "python",
   "name": "python3"
  },
  "language_info": {
   "codemirror_mode": {
    "name": "ipython",
    "version": 3
   },
   "file_extension": ".py",
   "mimetype": "text/x-python",
   "name": "python",
   "nbconvert_exporter": "python",
   "pygments_lexer": "ipython3",
   "version": "3.8.8"
  }
 },
 "nbformat": 4,
 "nbformat_minor": 5
}
